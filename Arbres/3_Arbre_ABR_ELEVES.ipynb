{
 "cells": [
  {
   "cell_type": "markdown",
   "metadata": {},
   "source": [
    "# Utilisation d'un A.B.R (Arbre Binaire de Recherche)"
   ]
  },
  {
   "cell_type": "markdown",
   "metadata": {},
   "source": [
    "## Utiliser un ABR pour classer des villes selon différents critères."
   ]
  },
  {
   "cell_type": "markdown",
   "metadata": {},
   "source": [
    "Dans ce TP, nous allons utiliser le fichier `villes.csv`.\n",
    "\n",
    "Qui contient la liste des 36700 villes de France.\n",
    "\n",
    "Chaque ligne de ce fichier contient les 5 informations suivantes :\n",
    "- Numéro du département.\n",
    "- Nom de la ville.\n",
    "- Nombre d'habitant en 2010\n",
    "- Superficie (en km²)\n",
    "- Longitude\n",
    "- Latitude\n",
    "\n",
    "\n",
    "Voici à quoi ressemblent les deux premières lignes de ce fichier :\n",
    "\n",
    "`1,Ozan,618,6.6,4.91667,46.3833`    \n",
    "`1,Cormoranche-sur-Saône,1058,9.85,4.83333,46.2333`"
   ]
  },
  {
   "cell_type": "markdown",
   "metadata": {},
   "source": [
    "<div class=\"alert alert-warning\" role=\"alert\">\n",
    "\n",
    "### Exercice 1 : Compléter la classe ville\n",
    "1. Compléter les définitions des attributs dans le constructeur de Classe.\n",
    "2. Écrire une méthode `afficherNom(self)`, qui affiche le nom de la ville.\n",
    "3. Écrire une méthode `getSuperficie(seL'attribut ville est donc un objet de type Ville.    \n",
    "À faire : Rajouter la méthode `inserer(self,liste)`, qui retourne la superficie de la ville.\n",
    "4. Écrire une méthode `__str__(self)`, qui affiche les 6 données de la ville.\n",
    "5. Écrire une méthode `getPosition(self)`, qui retourne le tuple : (Longitude,Latitude) de la ville.\n",
    "6. Écrire une méthode `getPopulation(self)`, qui retourne le tuple : (Longitude,Latitude) de la ville.\n",
    "7. Pour finir, tester ces méthodes.\n",
    "</div>"
   ]
  },
  {
   "cell_type": "code",
   "execution_count": null,
   "metadata": {},
   "outputs": [],
   "source": [
    "class Ville :\n",
    "    \"\"\"classe définissant une ville de France.\n",
    "    Chaque ville a 6 attributs :\n",
    "        - numero de departement\n",
    "        - nom        \n",
    "        - population (hab)\n",
    "        - superficie (km^2)\n",
    "        - Longitude\n",
    "        - Latitude\"\"\"\n",
    "\n",
    "    def __init__(self,liste) :\n",
    "        self.dept = str(liste[0]) #str pour la corse\n",
    "        self.nom = # A compléter\n",
    "        self.population = # A compléter\n",
    "        self.superficie = # A compléter\n",
    "        self.longitude = # A compléter\n",
    "        self.latitude = # A compléter\n",
    "        \n",
    "    def afficherNom(self):\n",
    "        raise NotImplementedError()\n",
    "    \n",
    "    def getSuperficie(self):\n",
    "        raise NotImplementedError()\n",
    "    \n",
    "    def getPopulation(self):\n",
    "        raise NotImplementedError()\n",
    "    \n",
    "    def __str__(self):\n",
    "        raise NotImplementedError()\n",
    "        \n",
    "    def getPosition(self):\n",
    "        raise NotImplementedError()\n",
    "    \n",
    "\n",
    "# création d'un objet:\n",
    "liste = [\"45\",\"Chaingy\",\"3531\",\"21.69\",\"1.76667\",\"47.8833\"]\n",
    "ville=Ville(liste)\n",
    "\n",
    "# tests\n",
    "print(ville.afficherNom())\n",
    "print(ville.getSuperficie())\n",
    "print(ville)\n",
    "print(ville.getPosition())"
   ]
  },
  {
   "cell_type": "markdown",
   "metadata": {},
   "source": [
    "Voilà la classe Noeud (adaptée) que nous allons utiliser :"
   ]
  },
  {
   "cell_type": "code",
   "execution_count": null,
   "metadata": {},
   "outputs": [],
   "source": [
    "class Noeud:\n",
    "    # Le constructeur\n",
    "    def __init__(self, liste, gauche=None, droit=None):\n",
    "        self.ville = Ville(liste)\n",
    "        self.gauche = gauche\n",
    "        self.droit = droit\n",
    "\n",
    "    def __str__(self): \n",
    "        return str(self.ville.afficherVille())\n",
    "\n",
    "    def estFeuille(self):\n",
    "        if not self.gauche and not self.droit:\n",
    "            return True\n",
    "        else:\n",
    "            return False"
   ]
  },
  {
   "cell_type": "markdown",
   "metadata": {},
   "source": [
    "**Remarque** L'attribut ville est donc un objet de type Ville.\n",
    "\n",
    "La création d'un noeud se fera donc ainsi : \n",
    "```python\n",
    "liste = [\"45\",\"Chaingy\",\"3531\",\"21.69\",\"1.76667\",\"47.8833\"]\n",
    "Noeud(Ville(liste))\n",
    "````\n"
   ]
  },
  {
   "cell_type": "markdown",
   "metadata": {},
   "source": [
    "## Arbre binaire de recherche concernant la taille des villes.\n",
    "\n",
    "Notre objectif est de faire un arbre de recherche qui permettra de trier les villes en fonction de leur nombre d'habitant.\n",
    "\n",
    "<img src=\"https://www.dropbox.com/s/3wmsgw1r3jboe7m/Binary_search_tree.svg.png?dl=1\" alt=\"Image d'un ABR\" width=\"500\"/>"
   ]
  },
  {
   "cell_type": "markdown",
   "metadata": {},
   "source": [
    "<div class=\"alert alert-warning\" role=\"alert\">\n",
    "\n",
    "### Exercice 2 : \n",
    "\n",
    "Rajouter la méthode `inserer(self,liste)` qui insèrera une ville `liste` dans l'arbre binaire binaire `self` constitué des villes. Chaque insertion devra insérer une ville sous forme de liste de façon à ce que la ville de population inférieure soit placée à gauche dans l'arbre.\n",
    "</div>\n",
    "\n",
    "Vous pourrez vous inspirer de cet algorithme : \n",
    "\n",
    "```\n",
    "VARIABLE\n",
    "T : arbre\n",
    "x : noeud\n",
    "y : noeud\n",
    "DEBUT\n",
    "inserer(T,y) :\n",
    "  si x.valeur < y.valeur :\n",
    "      si x.gauche est vide :\n",
    "          ajouter y à x.gauche\n",
    "      sinon :\n",
    "          inserer(T.gauche,liste)\n",
    "  sinon :\n",
    "      si x.droit est vide :\n",
    "          ajouter y à x.droit\n",
    "      sinon :\n",
    "          inserer(T.droit,liste)  \n",
    "FIN\n",
    "```"
   ]
  },
  {
   "cell_type": "code",
   "execution_count": null,
   "metadata": {},
   "outputs": [],
   "source": [
    "class Noeud:\n",
    "    # Le constructeur\n",
    "    def __init__(self, liste, gauche=None, droit=None):\n",
    "        self.ville = Ville(liste)\n",
    "        self.gauche = gauche\n",
    "        self.droit = droit\n",
    "\n",
    "    def __str__(self): \n",
    "        return str(self.ville)\n",
    "\n",
    "    def estFeuille(self):\n",
    "        if not self.gauche and not self.droit:\n",
    "            return True\n",
    "        else:\n",
    "            return False\n",
    "        \n",
    "    def inserer(self, liste):\n",
    "        ville = Ville(liste)\n",
    "        raise NotImplementedError()\n",
    "                "
   ]
  },
  {
   "cell_type": "markdown",
   "metadata": {},
   "source": [
    "## Création de l'arbre\n",
    "\n",
    "Écrire ce code pour créer une liste contenant les lignes du fichier villes.csv sous forme de liste.\n",
    "\n",
    "rappel : il faut que le fichier `villes.csv` soit dans le même dossier que votre notebook"
   ]
  },
  {
   "cell_type": "code",
   "execution_count": null,
   "metadata": {},
   "outputs": [],
   "source": [
    "import csv\n",
    "\n",
    "liste_villes=[]\n",
    "with open(\"villes.csv\",'r',encoding='utf-8') as f:\n",
    "    lecteur=csv.reader(f,delimiter=',')\n",
    "    lecteur.__next__() # Pour sauter la première ligne\n",
    "    for ligne in lecteur:\n",
    "        liste_villes.append(ligne)\n",
    "\n",
    "# Affichage des 10 premiers éléments de la liste        \n",
    "print(liste_villes[1:10])"
   ]
  },
  {
   "cell_type": "code",
   "execution_count": null,
   "metadata": {},
   "outputs": [],
   "source": [
    "noeud = Noeud(liste_villes[0])\n",
    "print(noeud)\n",
    "\n",
    "for el in liste_villes[1:]:\n",
    "    ville = Ville(el)\n",
    "    noeud.inserer(el)\n",
    "    \n",
    "print(noeud.gauche)\n",
    "print(noeud.droit)"
   ]
  },
  {
   "cell_type": "markdown",
   "metadata": {},
   "source": [
    "## Exploitation de l'arbre\n",
    "\n",
    "\n",
    "<div class=\"alert alert-warning\" role=\"alert\">\n",
    "\n",
    "### Exercice 3 : \n",
    "\n",
    "Récupérer la méthode (ou la fonction) `parcours_infixe` et adaptez la pour faire afficher les villes par ordre croissant de leur nombre d'habitant.\n",
    "</div>\n",
    " "
   ]
  },
  {
   "cell_type": "code",
   "execution_count": null,
   "metadata": {},
   "outputs": [],
   "source": [
    "def parcours_infixe(noeud):\n",
    "    \"\"\"Renvoie la liste des noeuds dans un parcours Prefixe\"\"\"\n",
    "    raise NotImplementedError()\n",
    "\n",
    "parcours_infixe(noeud)"
   ]
  },
  {
   "cell_type": "markdown",
   "metadata": {},
   "source": [
    "## Exploitation de l'arbre\n",
    "\n",
    "\n",
    "<div class=\"alert alert-warning\" role=\"alert\">\n",
    "\n",
    "### Exercice 4 : \n",
    "\n",
    "Adaptez ce parcours pour afficher les villes par ordre décroissant de leur nombre d'habitant ? Mettez le en oeuvre.\n",
    "</div>\n",
    " "
   ]
  },
  {
   "cell_type": "code",
   "execution_count": null,
   "metadata": {},
   "outputs": [],
   "source": [
    "def parcours_infixe_droit(noeud):\n",
    "    raise NotImplementedError()"
   ]
  },
  {
   "cell_type": "markdown",
   "metadata": {},
   "source": [
    "## Autres exploitations"
   ]
  },
  {
   "cell_type": "markdown",
   "metadata": {},
   "source": [
    "<div class=\"alert alert-warning\" role=\"alert\">\n",
    "\n",
    "### Exercice 4 : \n",
    "\n",
    "1. Modifier ce qu'il faut pour faire afficher les villes par ordre croissant de leur superficie.\n",
    "</div>"
   ]
  },
  {
   "cell_type": "code",
   "execution_count": null,
   "metadata": {},
   "outputs": [],
   "source": [
    "class Noeud:\n",
    "    # Le constructeur\n",
    "    def __init__(self, liste, gauche=None, droit=None):\n",
    "        self.ville = Ville(liste)\n",
    "        self.gauche = gauche\n",
    "        self.droit = droit\n",
    "\n",
    "    def __str__(self): \n",
    "        return str(self.ville)\n",
    "\n",
    "    def estFeuille(self):\n",
    "        if not self.gauche and not self.droit:\n",
    "            return True\n",
    "        else:\n",
    "            return False\n",
    "        \n",
    "    def inserer(self, liste):\n",
    "        ville = Ville(liste)\n",
    "        raise NotImplementedError()"
   ]
  },
  {
   "cell_type": "code",
   "execution_count": null,
   "metadata": {},
   "outputs": [],
   "source": [
    "# Votre code ici."
   ]
  },
  {
   "cell_type": "markdown",
   "metadata": {},
   "source": [
    "## Bonus :\n",
    "\n",
    "Quelques idées de compléments : \n",
    "- Trier les villes de la position la plus à l'ouest vers la plus à l'est\n",
    "- Trier les villes de la position la plus au nord vers la plus au sud\n",
    "- Utiliser d'autre jeux de données comme par exemple sur : https://data.orleans-metropole.fr/pages/home/ et les exploiter.\n"
   ]
  },
  {
   "cell_type": "code",
   "execution_count": null,
   "metadata": {},
   "outputs": [],
   "source": [
    "# Votre code ici."
   ]
  }
 ],
 "metadata": {
  "kernelspec": {
   "display_name": "Python 3",
   "language": "python",
   "name": "python3"
  },
  "language_info": {
   "codemirror_mode": {
    "name": "ipython",
    "version": 3
   },
   "file_extension": ".py",
   "mimetype": "text/x-python",
   "name": "python",
   "nbconvert_exporter": "python",
   "pygments_lexer": "ipython3",
   "version": "3.8.3"
  }
 },
 "nbformat": 4,
 "nbformat_minor": 4
}

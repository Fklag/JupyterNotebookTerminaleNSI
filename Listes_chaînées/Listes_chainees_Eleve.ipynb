{
 "cells": [
  {
   "cell_type": "markdown",
   "metadata": {},
   "source": [
    "# Liste (simplement) chaînées"
   ]
  },
  {
   "cell_type": "markdown",
   "metadata": {},
   "source": [
    "L'élément de base d'une liste simplement chaînée est une cellule constituée de deux parties.\n",
    "\n",
    "- La première contient une donnée - par exemple un entier pour une liste d'entiers;\n",
    "- la seconde contient un pointeur (i.e. une adresse mémoire) vers une autre cellule (ou un pointeur nul).\n",
    "\n",
    "Une liste est alors une succession de cellules, chacune pointant sur la suivante, et la dernière ayant un pointeur nul - i.e. ne pointant sur rien. En pratique, la variable «contenant» la liste est simplement un pointeur vers la première cellule.\n",
    "\n",
    "Voici par exemple une représentation d'une liste contenant les entiers 2, 4, 1 et 5.\n",
    "\n",
    "<img src=\"https://www.dropbox.com/s/nc1d3i0n0i4h7n0/liste1.png?dl=1\" alt=\"Liste simplement chaînée\" title=\"Liste simplement chaînée\" />\n",
    "\n",
    "À noter que les cellules n'ont pas à être placées de façon contigüe en mémoire - ce qui va donner à cette structure plus de souplesse qu'aux tableaux. Par exemple, l'insertion ou la suppression en début de liste s'effectue en temps constant grâce aux algorithmes que vous allez coder.\n",
    "\n",
    "### Remarques :\n",
    " * Avec cette définition, il n'y a pas d'accès direct aux valeurs des éléments.On avance dans la liste à partir de la tête, jusqu'à l'élément souhaité.\n",
    " * Cette représentation occupe un espace mémoire important puisqu'il faut stocker pour chaque cellule, une valeur et une adresse.\n",
    " * Elle est néanmoins performante en temps d'éxécution pour certaines opérations comme l'insertion ou la suppression."
   ]
  },
  {
   "cell_type": "markdown",
   "metadata": {},
   "source": [
    "## Encapsulation dans un objet\n",
    "Nous allons utiliser le paradigme de la programmation objet pour implémenter ce concept en python et définir deux classes : la classe `Cell` qui définit une cellule et la classe `Lc` qui définit une liste chaînée, classe pour laquelle nous ajouterons ensuite des méthodes pour effectuer des opérations usuelles sur les listes.\n"
   ]
  },
  {
   "cell_type": "markdown",
   "metadata": {},
   "source": [
    "<div class=\"alert alert-block alert-warning\">     \n",
    "    \n",
    "## Exercice 1\n",
    "La classe `Cell` contient deux attributs initialisés par la méthode constructeur :\n",
    "* `valeur` : Contient la valeur de la cellule définie\n",
    "* `suivant`: Contient l'adresse mémoire de la cellule suivante, par défaut la valeur `None`\n",
    "\n",
    "Ecrire la méthode `__str(self)__` qui doit permettre d'afficher la valeur de la cellule.\n",
    "</div>"
   ]
  },
  {
   "cell_type": "code",
   "execution_count": null,
   "metadata": {},
   "outputs": [],
   "source": [
    "class Cell:\n",
    "    '''Cellule d'une liste chainee'''\n",
    "    def __init__(self,valeur,suivant=None):\n",
    "        # A compléter\n",
    "\n",
    "    def __str__(self):\n",
    "        \"Affiche la valeur de la cellule\"\n",
    "        # A compléter\n"
   ]
  },
  {
   "cell_type": "code",
   "execution_count": null,
   "metadata": {},
   "outputs": [],
   "source": [
    "# Définition d'une cellule et affichage\n",
    "l1 = Cell(\"coucou\")\n",
    "print(l1)\n",
    "\n",
    "# Test de l'affichage\n",
    "assert str(l1) == \"coucou\""
   ]
  },
  {
   "cell_type": "markdown",
   "metadata": {},
   "source": [
    "## Construction d'une première liste\n",
    "Voici alors une première façon de construire la liste chaînée $2,4,1,5$ à l'aide de la classe `Cell`:"
   ]
  },
  {
   "cell_type": "code",
   "execution_count": null,
   "metadata": {},
   "outputs": [],
   "source": [
    "L=Cell(2,Cell(4,Cell(1,Cell(5,None))))"
   ]
  },
  {
   "cell_type": "markdown",
   "metadata": {},
   "source": [
    "* La variable `L` contient l'adresse mémoire de l'objet contenant la valeur 2 qui lui même contient l'adresse de l'autre objet contenant 4 qui lui même contient l'adresse de l'objet contenant 1 qui lui même contient l'adresse de l'objet contenant 5 et l'attribut `None`. (qui n'est pas obligatoire car par défaut vaut `None`)\n",
    "\n",
    "* Cette implémentation est cependant incomplète, car il n'est pour l'instant pas possible d'afficher une version plus lisible de cette liste :"
   ]
  },
  {
   "cell_type": "code",
   "execution_count": null,
   "metadata": {},
   "outputs": [],
   "source": [
    "# Affichage d'une liste chaînée \n",
    "print(L)"
   ]
  },
  {
   "cell_type": "markdown",
   "metadata": {},
   "source": [
    "<div class=\"alert alert-block alert-warning\">   \n",
    "    \n",
    "### Exercice 2 : Définition d'une liste\n",
    "Nous allons construire une classe `Lc` (liste chaînée) qui va permettre de compléter l'implémentation. Cette classe contient un attribut `tete` initialisé par le constructeur avec la valeur par défaut `None`. Cet attribut est simplement le lien vers l'adresse de la première cellule.\n",
    "</div>"
   ]
  },
  {
   "cell_type": "code",
   "execution_count": null,
   "metadata": {},
   "outputs": [],
   "source": [
    "class Lc:\n",
    "    '''Liste chaînée'''\n",
    "    def __init__(self, tete=None):\n",
    "        '''tete : lien vers la premiere cellule'''\n",
    "        self.tete=tete"
   ]
  },
  {
   "cell_type": "markdown",
   "metadata": {},
   "source": [
    "<div class=\"alert alert-block alert-warning\">  \n",
    "\n",
    "1. Compléter la construction de la liste $2,4,1,5$ ci-dessous en utilisant les classes `Cell` et `Lc`.\n",
    "    </div>"
   ]
  },
  {
   "cell_type": "code",
   "execution_count": null,
   "metadata": {},
   "outputs": [],
   "source": [
    "c1=Cell(2)\n",
    "# A compléter\n",
    "\n",
    "L=Lc(c1)"
   ]
  },
  {
   "cell_type": "markdown",
   "metadata": {},
   "source": [
    "<div class=\"alert alert-block alert-warning\">  \n",
    "    \n",
    "2. Afficher :\n",
    " * La valeur de la tête.\n",
    " * La valeur du deuxième élément à partir de la tête.\n",
    " * La valeur du dernier élément à partir de la tête.\n",
    "    </div>"
   ]
  },
  {
   "cell_type": "code",
   "execution_count": null,
   "metadata": {},
   "outputs": [],
   "source": [
    "#valeur de la tête\n",
    "\n",
    "\n",
    "#valeur du 2nd élément\n",
    "\n",
    "\n",
    "#valeur du dernier élément\n"
   ]
  },
  {
   "cell_type": "markdown",
   "metadata": {},
   "source": [
    "<div class=\"alert alert-block alert-warning\">   \n",
    "    \n",
    "### Exercice 3:\n",
    "Compléter la classe `Lc` avec la méthode `__str(self)__` qui doit permettre d'afficher la liste considérée telle que nous la connaissons en python. Ainsi , si `L` est la liste définie plus haut, `print(L)` doit renvoyer `[2,4,1,5]`.Si  la liste est vide, alors la chaîne `[]` est renvoyée.\n",
    "    </div>"
   ]
  },
  {
   "cell_type": "code",
   "execution_count": null,
   "metadata": {},
   "outputs": [],
   "source": [
    "class Lc:\n",
    "    '''Liste chaînée'''\n",
    "    def __init__(self, tete=None):\n",
    "        '''tete : lien vers la premiere cellule'''\n",
    "        self.tete=tete\n",
    "        \n",
    "    def __str__(self):        \n",
    "        '''renvoie une forme lisible de Lc'''\n",
    "        # A compléter\n",
    "    \n"
   ]
  },
  {
   "cell_type": "code",
   "execution_count": null,
   "metadata": {},
   "outputs": [],
   "source": [
    "# Il est nescessaire de redéfinir notre liste car sa définition a changé.\n",
    "c1=Cell(2)\n",
    "c2=Cell(4)\n",
    "c3=Cell(1)\n",
    "c4=Cell(5)\n",
    "c1.suivant=c2\n",
    "c2.suivant=c3\n",
    "c3.suivant=c4\n",
    "L=Lc(c1)\n",
    "\n",
    "print(str(L))\n",
    "print(Lc())\n",
    "\n",
    "# Tests de la méthode __str__\n",
    "assert str(L) == \"[2, 4, 1, 5]\"\n",
    "assert str(Lc()) == \"[]\""
   ]
  },
  {
   "cell_type": "markdown",
   "metadata": {},
   "source": [
    "<div class=\"alert alert-block alert-warning\">   \n",
    "    \n",
    "### Exercice 4:\n",
    "   Ecrire la fonction `listeN(n)` qui renvoie une liste chaînée contenant les $n$ premiers entiers de 1 à $n$. Si $n = 0$, on renvoie une liste chaînée vide.\n",
    "</div>"
   ]
  },
  {
   "cell_type": "code",
   "execution_count": null,
   "metadata": {},
   "outputs": [],
   "source": [
    "def listeN(n):\n",
    "    '''liste des n premiers entiers de 1 à n\n",
    "    parametre : n entier >0\n",
    "    return : liste chaînée\n",
    "    '''\n",
    "    # A compléter\n",
    "        \n",
    "print(listeN(0))      \n",
    "print(listeN(1))\n",
    "print(listeN(10))"
   ]
  },
  {
   "cell_type": "code",
   "execution_count": null,
   "metadata": {},
   "outputs": [],
   "source": [
    "# tests de la fonction listeN\n",
    "assert str(listeN(0)) == '[]'\n",
    "assert str(listeN(1)) == '[1]'\n",
    "assert str(listeN(12)) == '[1, 2, 3, 4, 5, 6, 7, 8, 9, 10, 11, 12]'\n"
   ]
  },
  {
   "cell_type": "markdown",
   "metadata": {},
   "source": [
    "## Méthodes\n",
    "Dans cette partie, nous allons compléter au fur et à mesure la classe `Lc` ci-dessous avec des méthodes permettant de réaliser des opérations que l'on fait habituellement avec les tableaux python."
   ]
  },
  {
   "cell_type": "code",
   "execution_count": null,
   "metadata": {},
   "outputs": [],
   "source": [
    "class Cell:\n",
    "    '''Cellule d'une liste chainee'''\n",
    "    def __init__(self,valeur,suivant=None):\n",
    "        self.valeur=valeur\n",
    "        self.suivant=suivant\n",
    "\n",
    "    def __str__(self):\n",
    "        return str(self.valeur)\n",
    "\n",
    "class Lc:\n",
    "    '''Liste chaînée'''\n",
    "    def __init__(self, tete=None):\n",
    "        '''tete : lien vers la premiere cellule'''\n",
    "        self.tete=tete\n",
    "    \n",
    "    def __str__(self):\n",
    "        '''renvoie une forme lisible de Lc'''\n",
    "        if self.tete is None:\n",
    "            return '[]'\n",
    "        else:\n",
    "            cellule=self.tete\n",
    "            valeurs=[cellule.valeur]\n",
    "            while cellule.suivant is not None:\n",
    "                cellule=cellule.suivant\n",
    "                valeurs.append(cellule.valeur)\n",
    "            return str(valeurs)\n",
    "    \n",
    "    #Ex 5\n",
    "    def vide(self):\n",
    "        '''renvoie True si la liste est vide\n",
    "        False sinon'''\n",
    "        # A compléter\n",
    "\n",
    "    \n",
    "    #Ex 6\n",
    "    def __len__(self):\n",
    "        '''renvoie la longueur de la liste'''\n",
    "        # A compléter\n",
    "        \n",
    "        \n",
    "    \n",
    "    #Ex 7\n",
    "    def __getitem__(self, index):\n",
    "        '''renvoie l'élement  d'index donné,\n",
    "           numéroté à partir de 0'''\n",
    "        # A compléter\n",
    "\n",
    "    \n",
    "    #Ex 8\n",
    "    def inserer(self,x,index):\n",
    "        '''insere l'élément x dans la liste\n",
    "        à l'index donné, numéroté à partir de 0'''\n",
    "        # A compléter\n",
    "        \n",
    "            \n",
    "    #Ex 9\n",
    "    def supprimer(self,index):\n",
    "        ''' Supprime l'élément d'index donné\n",
    "        numéroté  partir de 0, de la liste'''\n",
    "        # A compléter"
   ]
  },
  {
   "cell_type": "markdown",
   "metadata": {},
   "source": [
    "<div class=\"alert alert-block alert-warning\">   \n",
    "    \n",
    "### Exercice 5:\n",
    "   Compléter la méthode `vide(self)` qui revoie `True` si la liste chaînée est vide et `False` sinon.\n",
    "</div>"
   ]
  },
  {
   "cell_type": "code",
   "execution_count": null,
   "metadata": {},
   "outputs": [],
   "source": [
    "# Tests de l'exercice 5\n",
    "L = Lc(Cell(1))\n",
    "\n",
    "assert Lc().vide() == True\n",
    "assert L.vide() == False"
   ]
  },
  {
   "cell_type": "markdown",
   "metadata": {},
   "source": [
    "<div class=\"alert alert-block alert-warning\">   \n",
    "    \n",
    "### Exercice 6:\n",
    "   Ecrire la fonction `__len__(self)` qui renvoie la longueur de la liste chaînée, c'est à dire le nombre de cellules qui la compose.\n",
    "</div>"
   ]
  },
  {
   "cell_type": "code",
   "execution_count": null,
   "metadata": {},
   "outputs": [],
   "source": [
    "# Tests de l'exercice 6\n",
    "l1 = Lc(Cell(1,Cell(2,Cell(3))))\n",
    "\n",
    "assert len(Lc()) == 0\n",
    "assert len(l1) == 3\n",
    "\n"
   ]
  },
  {
   "cell_type": "markdown",
   "metadata": {},
   "source": [
    "##### Remarques :\n",
    "* Les instructions `len(L)` et `L.__len__()`  sont équivalentes(cela fonctionne par ailleurs avec les tableaux python)\n",
    "* Complexité du calcul de l'accès à un élément :\n",
    "    * Quelque soit le nombre de cellules, il faut les parcourir toutes.\n",
    "    * La complexité du calcul est donc proportionnelle au nombre $n$ de cellules, en $\\mathcal{O}(n)$\n",
    "    * Pour $1000$ cellules, il faudra donc effectuer $1000$ tests (`while`), $1000$ additions (`n+1`), et $2000$ affectations (`=`), soit $4000$ opérations élémentaires."
   ]
  },
  {
   "cell_type": "markdown",
   "metadata": {},
   "source": [
    "<div class=\"alert alert-block alert-warning\">   \n",
    "    \n",
    "### Exercice 7:\n",
    "   Ecrire la fonction `__getitem__(self,i)` qui renvoie l'élement  d'index `i`, numéroté à partir de 0. Si l'indice est invalide, un exception `IndexError` sera levée.\n",
    "</div>"
   ]
  },
  {
   "cell_type": "code",
   "execution_count": null,
   "metadata": {},
   "outputs": [],
   "source": [
    "# Tests de l'exercice 7\n",
    "l1 = Lc(Cell(0,Cell(1,Cell(2))))\n",
    "\n",
    "assert l1[0] == 0\n",
    "assert l1[1] == 1\n",
    "assert l1[2] == 2"
   ]
  },
  {
   "cell_type": "markdown",
   "metadata": {},
   "source": [
    "##### Remarques :\n",
    "* Les instructions `L[i]` et `L.__getitem__(i)` sont équivalentes(cela fonctionne par ailleurs avec les tableaux python)\n",
    "* Complexité du calcul de l'accès à un élément :\n",
    "    * Cela dépend de la valeur de `index` :\n",
    "      * Dans certains cas, il faut autant de passages dans la boucle `while` que de cellules à parcourir jusqu'à l'index demandé.\n",
    "      * Dans le pire des cas, il faut parcourir toute la liste (par exemple lorsque l'index est supérieur à égal à celui de la dernière cellule)\n"
   ]
  },
  {
   "cell_type": "markdown",
   "metadata": {},
   "source": [
    "<div class=\"alert alert-block alert-warning\">   \n",
    "    \n",
    "### Exercice 8:\n",
    "   Ecrire la fonction `inserer(self, x, index)` qui insère l'élément `x` à l'index donné en paramètre numéroté à partir de $0$.\n",
    "</div>"
   ]
  },
  {
   "cell_type": "markdown",
   "metadata": {},
   "source": [
    "\n",
    "<img src='https://www.dropbox.com/s/rdwgocucfu9htqf/liste_chainee_insert.png?dl=1' style='float:right;' width=400>    \n",
    "\n",
    "Le but de cet exercice est d'écrire la méthode `inserer(self, x, index)` qui insère l'élément `x` à l'index donné en paramètre numéroté à partir de $0$. \n",
    "* On envisagera d'abord les cas particuliers ou :\n",
    "    * La liste est vide.\n",
    "    * `index` est égal à $0$ (insertion en début de liste).\n",
    "\n",
    "\n",
    "* Cas général(voir exemple ci-contre):\n",
    "\n",
    "  * On avance dans la liste jusqu'à la cellule numéro `index-1`\n",
    "  * On crée une nouvelle cellule de valeur `x` et liée à la cellule numéro `index`\n",
    "  * On lie la cellule numéro `index-1` à la nouvelle cellule\n",
    "\n",
    "\n",
    "* Bonus : Si l'index est absurde, renvoyer `index error` (ajouter des tests adéquats)"
   ]
  },
  {
   "cell_type": "code",
   "execution_count": null,
   "metadata": {},
   "outputs": [],
   "source": [
    "# test\n",
    "l1 = Lc(Cell(1,Cell(1,Cell(3,Cell(5)))))\n",
    "print(l1)\n",
    "l1.inserer(2,3)\n",
    "print(l1)\n",
    "\n",
    "# Test IndexError\n",
    "#l1.inserer(2,15)\n",
    "\n",
    "#Ex9 : Tests insertion d'élément\n",
    "\n",
    "#insérer dans une liste vide\n",
    "L1=Lc()\n",
    "print(L1)\n",
    "L1.inserer(1,0)\n",
    "print(L1)\n",
    "\n",
    "#génération de la liste 1,1,3,5\n",
    "L=Lc(Cell(1,Cell(1,Cell(3,Cell(5,None)))))\n",
    "print(L)\n",
    "\n",
    "#insérer au début de la liste\n",
    "#L.inserer(0,0)\n",
    "#print(L)\n",
    "\n",
    "#inserer dans la liste\n",
    "L.inserer(2,3)\n",
    "print(L)\n",
    "\n",
    "#insérer à la fin de la liste\n",
    "L.inserer(8,len(L))\n",
    "print(L)"
   ]
  },
  {
   "cell_type": "markdown",
   "metadata": {},
   "source": [
    "##### Remarques :\n",
    "* On voit ici l'éfficacité de l'insertion dans une liste chaînée en début de liste. Il est inutile de décaler des éléments comme on le ferait pour un tableau, il suffit de créer une cellule à placer en tête et la lier à la cellule qui était précédemment en tête.\n",
    "* Dans ce cas la complexité de calcul est en temps constant( en $\\mathcal{O}(1)$) quelque soit la longueur de la liste !"
   ]
  },
  {
   "cell_type": "markdown",
   "metadata": {},
   "source": [
    "<div class=\"alert alert-block alert-warning\">   \n",
    "    \n",
    "### Exercice 9:\n",
    "   Ecrire la fonction la méthode `supprimer(self,index)` qui supprime l'élément `x` à l'index donné en paramètre numéroté à partir de $0$. \n",
    "</div>"
   ]
  },
  {
   "cell_type": "markdown",
   "metadata": {},
   "source": [
    "Suppression\n",
    "<img src='https://www.dropbox.com/s/3djz4qdpre7bypa/liste_chainee_suppr.png?dl=1' style='float:right;' width=400>    \n",
    "\n",
    "Le but de cet exercice est d'écrire la méthode `supprimer(self,index)` qui supprime l'élément `x` à l'index donné en paramètre numéroté à partir de $0$. \n",
    "* On envisagera d'abord le cas particulier ou `index` est égal à $0$ (le premier élément est supprimé) :\n",
    "\n",
    "\n",
    "* Cas général(voir exemple ci-contre):\n",
    "\n",
    "  * On avance dans la liste jusqu'à la cellule numéro `index-1`\n",
    "  * On lie la cellule numéro `index-1` à la cellule numéro `index+1`\n",
    "\n",
    "\n",
    "* Bonus : Si l'index est absurde, renvoyer `index error` ( ajouter des tests adéquats)."
   ]
  },
  {
   "cell_type": "code",
   "execution_count": null,
   "metadata": {},
   "outputs": [],
   "source": [
    "#Tests suppression d'élément\n",
    "\n",
    "#génération de la liste 1,1,3,5\n",
    "L=Lc(Cell(1,Cell(1,Cell(1,Cell(2,Cell(3,Cell(5,None)))))))\n",
    "print(L)\n",
    "\n",
    "#supprimer au début de la liste\n",
    "L.supprimer(0)\n",
    "print(L)\n",
    "\n",
    "#supprimer dans la liste\n",
    "L.supprimer(2)\n",
    "print(L)\n",
    "L.supprimer(2)\n",
    "print(L)\n",
    "L.supprimer(2)\n",
    "print(L)\n",
    "\n",
    "#supprimer à la fin de la liste\n",
    "L.supprimer(len(L)-1)\n",
    "print(L)\n",
    "\n",
    "#supprimer le seul élément de la liste\n",
    "L.supprimer(0)\n",
    "print(L)\n"
   ]
  },
  {
   "cell_type": "markdown",
   "metadata": {},
   "source": [
    "##### Remarques :\n",
    "* Encore une fois la suppression dans une liste chaînée en début de liste est efficace. Il est inutile de décaler des éléments comme on le ferait pour un tableau, il suffit de bien choisir la cellule à placer en tête de liste.\n",
    "* Dans ce cas la complexité de calcul est en temps constant( en $\\mathcal{O}(1)$) quelque soit la longueur de la liste !"
   ]
  }
 ],
 "metadata": {
  "kernelspec": {
   "display_name": "Python 3",
   "language": "python",
   "name": "python3"
  },
  "language_info": {
   "codemirror_mode": {
    "name": "ipython",
    "version": 3
   },
   "file_extension": ".py",
   "mimetype": "text/x-python",
   "name": "python",
   "nbconvert_exporter": "python",
   "pygments_lexer": "ipython3",
   "version": "3.7.4"
  }
 },
 "nbformat": 4,
 "nbformat_minor": 4
}